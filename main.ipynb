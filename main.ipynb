{
 "cells": [
  {
   "cell_type": "code",
   "execution_count": 6,
   "metadata": {},
   "outputs": [
    {
     "name": "stdout",
     "output_type": "stream",
     "text": [
      "Child\n",
      "cant vote\n",
      "<class 'int'>\n"
     ]
    }
   ],
   "source": [
    "age = int(input(\"insert your age: \"))\n",
    "\n",
    "if age >= 18:\n",
    "    print(\"Adult - can vote\")\n",
    "elif age < 13:\n",
    "    print(\"Child\")\n",
    "    print(\"cant vote\")\n",
    "elif age >= 13 and age <=17:\n",
    "    print(\"Teen\")\n",
    "\n",
    "# print(type(age))\n",
    "\n",
    "# edit 1 \n"
   ]
  },
  {
   "cell_type": "code",
   "execution_count": null,
   "metadata": {},
   "outputs": [],
   "source": []
  }
 ],
 "metadata": {
  "kernelspec": {
   "display_name": "Python 3",
   "language": "python",
   "name": "python3"
  },
  "language_info": {
   "codemirror_mode": {
    "name": "ipython",
    "version": 3
   },
   "file_extension": ".py",
   "mimetype": "text/x-python",
   "name": "python",
   "nbconvert_exporter": "python",
   "pygments_lexer": "ipython3",
   "version": "3.12.5"
  }
 },
 "nbformat": 4,
 "nbformat_minor": 2
}
